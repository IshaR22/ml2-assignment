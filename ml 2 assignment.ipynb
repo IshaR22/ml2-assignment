{
 "cells": [
  {
   "cell_type": "code",
   "execution_count": null,
   "id": "e8f5f189-7215-4db5-941b-1537a98cf6de",
   "metadata": {},
   "outputs": [],
   "source": [
    "Q1: Define overfitting and underfitting in machine learning. What are the consequences of each, and how\n",
    "can they be mitigated?"
   ]
  },
  {
   "cell_type": "code",
   "execution_count": null,
   "id": "aeaafa54-3938-46ad-95d1-a8a3d9d1bb25",
   "metadata": {},
   "outputs": [],
   "source": [
    "Overfitting is an undesirable machine learning behavior that occurs when the machine learning model gives accurate\n",
    "predictions for training data but not for new data. \n",
    "\n",
    "Consequences of overfitting:\n",
    "\n",
    "1.Poor performance on test or validation datasets\n",
    "2.High variance, leading to unstable predictions\n",
    "3.Model becomes too specialized to the training data, failing to adapt to new data\n",
    "\n",
    "Mitigation strategies for overfitting:\n",
    "\n",
    "1.augmentation: Increasing the size and diversity of the training dataset can help the model generalize better.\n",
    "2.Cross-validation: Splitting the data into training and validation sets and monitoring performance on the validation \n",
    "set can help identify overfitting.\n",
    "\n",
    "\n",
    "Underfitting is another type of error that occurs when the model cannot determine a meaningful relationship between \n",
    "the input and output data. we get underfit models if they have not trained for the appropriate length of time on a \n",
    "large number of data points.\n",
    "\n",
    "Consequences of underfitting:\n",
    "\n",
    "1.Poor performance on both training and test datasets\n",
    "2.High bias, leading to inaccurate predictions\n",
    "3.Model fails to capture the underlying relationships in the data\n",
    "\n",
    "Mitigation strategies for underfitting:\n",
    "\n",
    "1.Increased model complexity: Using more complex models, such as neural networks, can help capture the underlying \n",
    "patterns.\n",
    "2.More training data: Collecting more data can help the model learn the underlying relationships.\n",
    "3.Feature engineering: Creating additional features or transforming existing ones can help the model capture more \n",
    "patterns.\n"
   ]
  },
  {
   "cell_type": "code",
   "execution_count": null,
   "id": "c88f2820-42a6-4b4e-8a4d-8f6e49ed376d",
   "metadata": {},
   "outputs": [],
   "source": [
    "Q2: How can we reduce overfitting? Explain in brief."
   ]
  },
  {
   "cell_type": "code",
   "execution_count": null,
   "id": "be24a42f-9d4f-447b-a996-62449dafaf54",
   "metadata": {},
   "outputs": [],
   "source": [
    "overfitting an be reduced by \n",
    "1.augmentation: Increasing the size and diversity of the training dataset can help the model generalize better.\n",
    "2.Cross-validation: Splitting the data into training and validation sets and monitoring performance on the validation \n",
    "set can help identify overfitting."
   ]
  },
  {
   "cell_type": "code",
   "execution_count": null,
   "id": "6af2e7e3-21e0-473e-bfb2-64b37a8d9824",
   "metadata": {},
   "outputs": [],
   "source": [
    "Q3: Explain underfitting. List scenarios where underfitting can occur in ML."
   ]
  },
  {
   "cell_type": "code",
   "execution_count": null,
   "id": "d6791f0a-fe47-4be0-9c67-d5778339897e",
   "metadata": {},
   "outputs": [],
   "source": [
    "Underfitting is another type of error that occurs when the model cannot determine a meaningful relationship between \n",
    "the input and output data. we get underfit models if they have not trained for the appropriate length of time on a \n",
    "large number of data points.\n",
    "2. Reasons for Underfitting\n",
    "High bias and low variance.\n",
    "The size of the training dataset used is not enough.\n",
    "The model is too simple.\n",
    "Training data is not cleaned and also contains noise in it.\n",
    "Example \n",
    "noisy features: Including irrelevant or noisy features in the model, which can dilute the signal and make it harder\n",
    "for the model to learn.\n",
    "Limited training data: Training a model on a small dataset, which may not provide enough information for the model \n",
    "to learn the underlying patterns.\n"
   ]
  },
  {
   "cell_type": "code",
   "execution_count": null,
   "id": "68055991-da42-466b-97f9-a791279baedb",
   "metadata": {},
   "outputs": [],
   "source": [
    "Q4: Explain the bias-variance tradeoff in machine learning. What is the relationship between bias and\n",
    "variance, and how do they affect model performance?"
   ]
  },
  {
   "cell_type": "code",
   "execution_count": null,
   "id": "2a6bc374-6be7-4e95-b019-ac372dddefbd",
   "metadata": {},
   "outputs": [],
   "source": [
    "the bias–variance tradeoff describes the relationship between a model's complexity, the accuracy of its predictions, \n",
    "and how well it can make predictions on previously unseen data that were not used to train the model. In general,\n",
    "as we increase the number of tunable parameters in a model, it becomes more flexible, and can better fit a training \n",
    "data set. It is said to have  bias. \n",
    "\n",
    "Bias refers to the average difference between the predicted values and the true values, while variance represents \n",
    "the spread of the predicted values around their average.\n",
    "\n",
    "Variance, measures the model’s sensitivity to training data. High variance leads to overfitting,\\\n",
    "Bias represents the inherent error due to the model’s assumptions, which can lead to underfitting. This"
   ]
  },
  {
   "cell_type": "code",
   "execution_count": null,
   "id": "d0c13a2f-a542-458a-ad99-07e6f6457469",
   "metadata": {},
   "outputs": [],
   "source": [
    "Q5: Discuss some common methods for detecting overfitting and underfitting in machine learning models.\n",
    "How can you determine whether your model is overfitting or underfitting?"
   ]
  },
  {
   "cell_type": "code",
   "execution_count": null,
   "id": "4e1c5b5a-0d71-4ba5-a266-e82cf68e2d49",
   "metadata": {},
   "outputs": [],
   "source": [
    "There are a few ways  to \"diagnose\" underfitting and overfitting. \n",
    "\n",
    "Underfitting occurs when your model produces accurate but inaccurate predictions at first. In this scenario, the \n",
    "training error is substantial, as is the validation/test error. \n",
    "\n",
    "Overfitting occurs when your model fails to generate correct predictions. The training error is relatively modest in \n",
    "this example, but the validation/test error is highly significant. \n",
    "\n",
    "When you identify a decent model, the training error is small , and the validation/test error is also minimal. \n",
    "\n",
    "underfitting arises when your model is too simplistic for your data. Conversely, overfitting happens when your model\n",
    "is too complicated for your data.\n",
    "\n",
    "1.Training and Validation Error Curves: Plot the training error and validation error against the number of iterations.\n",
    "Overfitting occurs when the validation error increases while the training error continues to decrease.\n",
    "2.Cross-Validation: Divide the dataset into multiple folds and train the model on each fold. Evaluate the model’s \n",
    "performance on the remaining folds. If the model performs well on the training folds but poorly on the test folds,\n",
    "it may be overfitting.\n",
    "\n",
    "Common Methods for Detecting Underfitting:\n",
    "\n",
    "1.Training Error: If the training error is high, it may indicate underfitting. A model that cannot accurately fit the\n",
    "training data is unlikely to generalize well to new data.\n",
    "2.Low Model Complexity: If the model is too simple, it may not be able to capture the underlying relationships in the\n",
    "data, leading to underfitting.\n",
    "3.High Bias: A model with high bias (systematic error) may be underfitting, as it fails to capture the true patterns \n",
    "in the data.\n"
   ]
  },
  {
   "cell_type": "code",
   "execution_count": null,
   "id": "b3923191-9c09-4dd1-a8b0-534ef4fd2058",
   "metadata": {},
   "outputs": [],
   "source": [
    "Q6: Compare and contrast bias and variance in machine learning. What are some examples of high bias\n",
    "and high variance models, and how do they differ in terms of their performance?"
   ]
  },
  {
   "cell_type": "code",
   "execution_count": null,
   "id": "2f4a616c-eeab-4a85-b0cd-2ce4dce59b66",
   "metadata": {},
   "outputs": [],
   "source": [
    "Bias refers to the average difference between the predicted values and the true values, while variance represents \n",
    "the spread of the predicted values around their average.\n",
    "High bias models are overly simplistic, underfit the data, and have low testing scores\n",
    "High variance models are overly complex, overfit the data, and have high testing scores but low training scores\n",
    "An ideal model balances bias and variance, achieving low error rates on both training and testing datasets\n",
    "By understanding the bias-variance tradeoff and recognizing the characteristics of high bias and high variance models, \n",
    "machine learning practitioners can develop more effective models and avoid common pitfalls like overfitting and \n",
    "underfitting."
   ]
  }
 ],
 "metadata": {
  "kernelspec": {
   "display_name": "Python 3 (ipykernel)",
   "language": "python",
   "name": "python3"
  },
  "language_info": {
   "codemirror_mode": {
    "name": "ipython",
    "version": 3
   },
   "file_extension": ".py",
   "mimetype": "text/x-python",
   "name": "python",
   "nbconvert_exporter": "python",
   "pygments_lexer": "ipython3",
   "version": "3.10.8"
  }
 },
 "nbformat": 4,
 "nbformat_minor": 5
}
